{
  "nbformat": 4,
  "nbformat_minor": 0,
  "metadata": {
    "colab": {
      "name": "Exercicio4.ipynb",
      "provenance": [],
      "collapsed_sections": [],
      "authorship_tag": "ABX9TyMPsjdB/MoSzn78hhklcC5g",
      "include_colab_link": true
    },
    "kernelspec": {
      "name": "python3",
      "display_name": "Python 3"
    },
    "language_info": {
      "name": "python"
    }
  },
  "cells": [
    {
      "cell_type": "markdown",
      "metadata": {
        "id": "view-in-github",
        "colab_type": "text"
      },
      "source": [
        "<a href=\"https://colab.research.google.com/github/andreviniciusmb/cadeia-markov/blob/main/Exercicio4.ipynb\" target=\"_parent\"><img src=\"https://colab.research.google.com/assets/colab-badge.svg\" alt=\"Open In Colab\"/></a>"
      ]
    },
    {
      "cell_type": "markdown",
      "metadata": {
        "id": "RWFFNdmSFF5W"
      },
      "source": [
        "# Exercício 4 - Modelos de Markov\n",
        "\n",
        "A <b>cadeia de Markov</b> é um <b>processo estocástico discreto no tempo</b>, ou seja, um processo sem memória, somente o <b>ontem</b> influencia no <b>hoje</b>. A fundamentação da cadeia de Markov se baseou na <b>suposição de Markov</b>, desenvolvida pelo matemático Andrei Andreyevich Markov, que de acordo com ele, tudo que aconteceu antes não importa, então se queremos avaliar um estado <b>t</b> olharemos somente o estado anterior, o estado <b>t-1</b>. \\\n",
        "Abaixo temos alguns exemplos de uso dos modelos de Markov:\n",
        "* Previsão do clima\n",
        "* Preco de uma ação na bolsa de valores\n",
        "* Demanda de energia elétrica\n",
        "\n",
        "Nos modelos de Markov temos os <b>modelos de transição</b>, que são nada mais do que as mudanças de estado do sistema, ou seja, estamos em um estado <b>t</b> e vamos para o estado <b>t+1</b> a partir de uma determinada probabilidade. As transições podem ser representadas por <b>grafos dirigidos</b> ou então por uma <b>matriz de transição</b>. No exemplo abaixo temos um grafo dirigido em que os nós <b>E</b> e <b>A</b> representam os estados e os arcos representam as transições entre os estados. \n",
        "\n",
        "<img src='https://upload.wikimedia.org/wikipedia/commons/2/2b/Markovkate_01.svg' alt='Grafo dirigido' width=200px height=200px/>\n",
        "\n",
        "Nessa segunda imagem temos um exemplo de <b>matriz de transição</b> em que as linhas <b>A</b>, <b>M</b> e <b>B</b> representam os estados origem e as colunas os estados destinos, logo os elementos da matriz representam se possuem arcos de transições entre os estados, e se sim, qual probabilidade. \n",
        "\n",
        "<img src='https://s3.amazonaws.com/mapastatic/514db71adee2c116a6000014/imgs_Anal_Jud_Estatistica/102.png' alt='Matriz de transição' width=200px height=200px/>\n",
        "\n",
        "\n"
      ]
    },
    {
      "cell_type": "markdown",
      "metadata": {
        "id": "ecd6Nb-fBL3-"
      },
      "source": [
        "### Bibliotecas\n",
        "*Na  célula abaixo faremos o download e importação das bibliotecas necessárias para executação do programa.*"
      ]
    },
    {
      "cell_type": "code",
      "metadata": {
        "id": "yatCf7R0FE9T",
        "colab": {
          "base_uri": "https://localhost:8080/"
        },
        "outputId": "9d0f3a0b-350c-403a-deba-d32acdbe3d13"
      },
      "source": [
        "# Fazendo download da biblioteca que usaremos para criar os modelos de Markov\n",
        "!pip install pomegranate"
      ],
      "execution_count": 1,
      "outputs": [
        {
          "output_type": "stream",
          "text": [
            "Requirement already satisfied: pomegranate in /usr/local/lib/python3.7/dist-packages (0.14.5)\n",
            "Requirement already satisfied: networkx>=2.4 in /usr/local/lib/python3.7/dist-packages (from pomegranate) (2.5.1)\n",
            "Requirement already satisfied: scipy>=0.17.0 in /usr/local/lib/python3.7/dist-packages (from pomegranate) (1.4.1)\n",
            "Requirement already satisfied: pyyaml in /usr/local/lib/python3.7/dist-packages (from pomegranate) (3.13)\n",
            "Requirement already satisfied: joblib>=0.9.0b4 in /usr/local/lib/python3.7/dist-packages (from pomegranate) (1.0.1)\n",
            "Requirement already satisfied: numpy>=1.20.0 in /usr/local/lib/python3.7/dist-packages (from pomegranate) (1.21.0)\n",
            "Requirement already satisfied: decorator<5,>=4.3 in /usr/local/lib/python3.7/dist-packages (from networkx>=2.4->pomegranate) (4.4.2)\n"
          ],
          "name": "stdout"
        }
      ]
    },
    {
      "cell_type": "code",
      "metadata": {
        "id": "ccqLB0hRC7Ky"
      },
      "source": [
        "from pomegranate import *\n",
        "import seaborn as sns\n",
        "import pandas as pd\n",
        "import matplotlib.pyplot as plt"
      ],
      "execution_count": 2,
      "outputs": []
    },
    {
      "cell_type": "markdown",
      "metadata": {
        "id": "zXdqfgtoDTrl"
      },
      "source": [
        "### Atividade\n",
        "*A atividade pede para:*\n",
        "* *Implementar o exemplo do slide utilizando o módulo pomegranate*\n",
        "* *Definir a probabilidade inicial,*\n",
        "* *Definir o modelo de transição,*\n",
        "* *Gerar 100 amostras.*\n",
        "\n",
        "*A atividade se baseia no seguinte cenário: encontrar a probabilidade de amanhã ter chuva a partir do dia de hoje.*\n",
        "\n",
        "<table height=200px width=400px>\n",
        "  <tr>\n",
        "    <th> </th>\n",
        "    <th>Sol</th>\n",
        "    <th>Chuva</th>\n",
        "  </tr>\n",
        "  <tr>\n",
        "    <td><b>Sol</b></td>\n",
        "    <td>0.9</td>\n",
        "    <td>0.1</td>\n",
        "  </tr>\n",
        "  <tr>\n",
        "    <td><b>Chuva</b></td>\n",
        "    <td>0.6</td>\n",
        "    <td>0.4</td>\n",
        "  </tr>\n",
        "</table>"
      ]
    },
    {
      "cell_type": "markdown",
      "metadata": {
        "id": "_9qsv2zSkaLa"
      },
      "source": [
        "*Nesse momento, vamos criar um nó que representa o <b>hoje</b> com distribuição discreta, ou seja, uma variável independente; e vamos criar também o nó <b>amanha</b>, que é condicional a hoje, ou seja, depende do que acontece hoje. \\\n",
        "Vale lembrar que o nó <b>hoje</b> tem como <b>probabilidade inicial</b> 50% de ter sol e 50% chuva. E a nossa <b>transição</b> está representado pelo nó <b>amanha</b> tem como probabilidade os valores apresentados na tabela acima.*"
      ]
    },
    {
      "cell_type": "code",
      "metadata": {
        "id": "uLAu-gmbDUt-"
      },
      "source": [
        "hoje = DiscreteDistribution({\n",
        "    \"sol\": 0.5,\n",
        "    \"chuva\": 0.5\n",
        "})\n",
        "\n",
        "amanha = ConditionalProbabilityTable([\n",
        "    [\"sol\", \"sol\", 0.9],\n",
        "    [\"sol\", \"chuva\", 0.1],\n",
        "    [\"chuva\", \"sol\", 0.6],\n",
        "    [\"chuva\", \"chuva\", 0.4]\n",
        "], [hoje])\n"
      ],
      "execution_count": 3,
      "outputs": []
    },
    {
      "cell_type": "markdown",
      "metadata": {
        "id": "Upqbr7QHmvgk"
      },
      "source": [
        "*Agora, vamos criar a cadeia de Markov e <b>gerar 100 amostras</b>.*"
      ]
    },
    {
      "cell_type": "code",
      "metadata": {
        "id": "7b9ZDi_xkYPr"
      },
      "source": [
        "modelo = MarkovChain([hoje,amanha])\n",
        "amostras = modelo.sample(100)"
      ],
      "execution_count": 4,
      "outputs": []
    },
    {
      "cell_type": "markdown",
      "metadata": {
        "id": "v8vs96GmsRdK"
      },
      "source": [
        "*Como podemos perceber abaixo, mais de <b>80% das amostras</b> tiveram como resultado da previsão, <b>sol</b> para <b>amanhã</b>, dado que a probabilidade de ter sol e chuva hoje foram iguais.*"
      ]
    },
    {
      "cell_type": "code",
      "metadata": {
        "id": "D7zRZGvQnLL6",
        "colab": {
          "base_uri": "https://localhost:8080/",
          "height": 336
        },
        "outputId": "12d12968-8761-4163-8b4b-f02b57a7d6ce"
      },
      "source": [
        "plt.figure(figsize=(7,5))\n",
        "sns.countplot(x = amostras,palette='Set1')\n",
        "plt.ylabel('Quantidade')\n",
        "plt.title('Gráfico do clima para amanhã')\n",
        "plt.show()"
      ],
      "execution_count": 5,
      "outputs": [
        {
          "output_type": "display_data",
          "data": {
            "image/png": "[encoded data removed]",
            "text/plain": [
              "<Figure size 504x360 with 1 Axes>"
            ]
          },
          "metadata": {
            "tags": [],
            "needs_background": "light"
          }
        }
      ]
    },
    {
      "cell_type": "markdown",
      "metadata": {
        "id": "GUFnIv_fzBGO"
      },
      "source": [
        "## Referências das imagens\n",
        "* https://s3.amazonaws.com/mapastatic/514db71adee2c116a6000014/imgs_Anal_Jud_Estatistica/102.png\n",
        "* https://upload.wikimedia.org/wikipedia/commons/2/2b/Markovkate_01.svg"
      ]
    }
  ]
}